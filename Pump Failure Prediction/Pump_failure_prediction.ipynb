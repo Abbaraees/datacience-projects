{
 "cells": [
  {
   "cell_type": "code",
   "execution_count": 1,
   "id": "01b328fa-b451-41ad-9425-9025059b7991",
   "metadata": {},
   "outputs": [],
   "source": [
    "import pandas as pd\n",
    "import numpy as np\n",
    "import matplotlib.pyplot as plt\n",
    "import seaborn; seaborn.set()\n",
    "%matplotlib inline"
   ]
  },
  {
   "cell_type": "markdown",
   "id": "dbf50fe0-e4fd-4dc3-9240-d12815af5570",
   "metadata": {
    "tags": []
   },
   "source": [
    "## Loading The Data"
   ]
  },
  {
   "cell_type": "code",
   "execution_count": 2,
   "id": "fbdf861d-924f-43c4-99c9-29f6d8a027ba",
   "metadata": {},
   "outputs": [
    {
     "data": {
      "text/html": [
       "<div>\n",
       "<style scoped>\n",
       "    .dataframe tbody tr th:only-of-type {\n",
       "        vertical-align: middle;\n",
       "    }\n",
       "\n",
       "    .dataframe tbody tr th {\n",
       "        vertical-align: top;\n",
       "    }\n",
       "\n",
       "    .dataframe thead th {\n",
       "        text-align: right;\n",
       "    }\n",
       "</style>\n",
       "<table border=\"1\" class=\"dataframe\">\n",
       "  <thead>\n",
       "    <tr style=\"text-align: right;\">\n",
       "      <th></th>\n",
       "      <th>id</th>\n",
       "      <th>amount_tsh</th>\n",
       "      <th>date_recorded</th>\n",
       "      <th>funder</th>\n",
       "      <th>gps_height</th>\n",
       "      <th>installer</th>\n",
       "      <th>longitude</th>\n",
       "      <th>latitude</th>\n",
       "      <th>wpt_name</th>\n",
       "      <th>num_private</th>\n",
       "      <th>...</th>\n",
       "      <th>water_quality</th>\n",
       "      <th>quality_group</th>\n",
       "      <th>quantity</th>\n",
       "      <th>quantity_group</th>\n",
       "      <th>source</th>\n",
       "      <th>source_type</th>\n",
       "      <th>source_class</th>\n",
       "      <th>waterpoint_type</th>\n",
       "      <th>waterpoint_type_group</th>\n",
       "      <th>status_group</th>\n",
       "    </tr>\n",
       "  </thead>\n",
       "  <tbody>\n",
       "    <tr>\n",
       "      <th>0</th>\n",
       "      <td>69572</td>\n",
       "      <td>6000.0</td>\n",
       "      <td>2011-03-14</td>\n",
       "      <td>Roman</td>\n",
       "      <td>1390</td>\n",
       "      <td>Roman</td>\n",
       "      <td>34.938093</td>\n",
       "      <td>-9.856322</td>\n",
       "      <td>none</td>\n",
       "      <td>0</td>\n",
       "      <td>...</td>\n",
       "      <td>soft</td>\n",
       "      <td>good</td>\n",
       "      <td>enough</td>\n",
       "      <td>enough</td>\n",
       "      <td>spring</td>\n",
       "      <td>spring</td>\n",
       "      <td>groundwater</td>\n",
       "      <td>communal standpipe</td>\n",
       "      <td>communal standpipe</td>\n",
       "      <td>functional</td>\n",
       "    </tr>\n",
       "    <tr>\n",
       "      <th>1</th>\n",
       "      <td>8776</td>\n",
       "      <td>0.0</td>\n",
       "      <td>2013-03-06</td>\n",
       "      <td>Grumeti</td>\n",
       "      <td>1399</td>\n",
       "      <td>GRUMETI</td>\n",
       "      <td>34.698766</td>\n",
       "      <td>-2.147466</td>\n",
       "      <td>Zahanati</td>\n",
       "      <td>0</td>\n",
       "      <td>...</td>\n",
       "      <td>soft</td>\n",
       "      <td>good</td>\n",
       "      <td>insufficient</td>\n",
       "      <td>insufficient</td>\n",
       "      <td>rainwater harvesting</td>\n",
       "      <td>rainwater harvesting</td>\n",
       "      <td>surface</td>\n",
       "      <td>communal standpipe</td>\n",
       "      <td>communal standpipe</td>\n",
       "      <td>functional</td>\n",
       "    </tr>\n",
       "    <tr>\n",
       "      <th>2</th>\n",
       "      <td>34310</td>\n",
       "      <td>25.0</td>\n",
       "      <td>2013-02-25</td>\n",
       "      <td>Lottery Club</td>\n",
       "      <td>686</td>\n",
       "      <td>World vision</td>\n",
       "      <td>37.460664</td>\n",
       "      <td>-3.821329</td>\n",
       "      <td>Kwa Mahundi</td>\n",
       "      <td>0</td>\n",
       "      <td>...</td>\n",
       "      <td>soft</td>\n",
       "      <td>good</td>\n",
       "      <td>enough</td>\n",
       "      <td>enough</td>\n",
       "      <td>dam</td>\n",
       "      <td>dam</td>\n",
       "      <td>surface</td>\n",
       "      <td>communal standpipe multiple</td>\n",
       "      <td>communal standpipe</td>\n",
       "      <td>functional</td>\n",
       "    </tr>\n",
       "    <tr>\n",
       "      <th>3</th>\n",
       "      <td>67743</td>\n",
       "      <td>0.0</td>\n",
       "      <td>2013-01-28</td>\n",
       "      <td>Unicef</td>\n",
       "      <td>263</td>\n",
       "      <td>UNICEF</td>\n",
       "      <td>38.486161</td>\n",
       "      <td>-11.155298</td>\n",
       "      <td>Zahanati Ya Nanyumbu</td>\n",
       "      <td>0</td>\n",
       "      <td>...</td>\n",
       "      <td>soft</td>\n",
       "      <td>good</td>\n",
       "      <td>dry</td>\n",
       "      <td>dry</td>\n",
       "      <td>machine dbh</td>\n",
       "      <td>borehole</td>\n",
       "      <td>groundwater</td>\n",
       "      <td>communal standpipe multiple</td>\n",
       "      <td>communal standpipe</td>\n",
       "      <td>non functional</td>\n",
       "    </tr>\n",
       "    <tr>\n",
       "      <th>4</th>\n",
       "      <td>19728</td>\n",
       "      <td>0.0</td>\n",
       "      <td>2011-07-13</td>\n",
       "      <td>Action In A</td>\n",
       "      <td>0</td>\n",
       "      <td>Artisan</td>\n",
       "      <td>31.130847</td>\n",
       "      <td>-1.825359</td>\n",
       "      <td>Shuleni</td>\n",
       "      <td>0</td>\n",
       "      <td>...</td>\n",
       "      <td>soft</td>\n",
       "      <td>good</td>\n",
       "      <td>seasonal</td>\n",
       "      <td>seasonal</td>\n",
       "      <td>rainwater harvesting</td>\n",
       "      <td>rainwater harvesting</td>\n",
       "      <td>surface</td>\n",
       "      <td>communal standpipe</td>\n",
       "      <td>communal standpipe</td>\n",
       "      <td>functional</td>\n",
       "    </tr>\n",
       "  </tbody>\n",
       "</table>\n",
       "<p>5 rows × 41 columns</p>\n",
       "</div>"
      ],
      "text/plain": [
       "      id  amount_tsh date_recorded        funder  gps_height     installer  \\\n",
       "0  69572      6000.0    2011-03-14         Roman        1390         Roman   \n",
       "1   8776         0.0    2013-03-06       Grumeti        1399       GRUMETI   \n",
       "2  34310        25.0    2013-02-25  Lottery Club         686  World vision   \n",
       "3  67743         0.0    2013-01-28        Unicef         263        UNICEF   \n",
       "4  19728         0.0    2011-07-13   Action In A           0       Artisan   \n",
       "\n",
       "   longitude   latitude              wpt_name  num_private  ... water_quality  \\\n",
       "0  34.938093  -9.856322                  none            0  ...          soft   \n",
       "1  34.698766  -2.147466              Zahanati            0  ...          soft   \n",
       "2  37.460664  -3.821329           Kwa Mahundi            0  ...          soft   \n",
       "3  38.486161 -11.155298  Zahanati Ya Nanyumbu            0  ...          soft   \n",
       "4  31.130847  -1.825359               Shuleni            0  ...          soft   \n",
       "\n",
       "  quality_group      quantity  quantity_group                source  \\\n",
       "0          good        enough          enough                spring   \n",
       "1          good  insufficient    insufficient  rainwater harvesting   \n",
       "2          good        enough          enough                   dam   \n",
       "3          good           dry             dry           machine dbh   \n",
       "4          good      seasonal        seasonal  rainwater harvesting   \n",
       "\n",
       "            source_type source_class              waterpoint_type  \\\n",
       "0                spring  groundwater           communal standpipe   \n",
       "1  rainwater harvesting      surface           communal standpipe   \n",
       "2                   dam      surface  communal standpipe multiple   \n",
       "3              borehole  groundwater  communal standpipe multiple   \n",
       "4  rainwater harvesting      surface           communal standpipe   \n",
       "\n",
       "  waterpoint_type_group    status_group  \n",
       "0    communal standpipe      functional  \n",
       "1    communal standpipe      functional  \n",
       "2    communal standpipe      functional  \n",
       "3    communal standpipe  non functional  \n",
       "4    communal standpipe      functional  \n",
       "\n",
       "[5 rows x 41 columns]"
      ]
     },
     "execution_count": 2,
     "metadata": {},
     "output_type": "execute_result"
    }
   ],
   "source": [
    "X = pd.read_csv('pump/train_x.csv')\n",
    "y = pd.read_csv('pump/train_y.csv')\n",
    "pump_data = pd.merge(X, y)\n",
    "pump_data.head()"
   ]
  },
  {
   "cell_type": "code",
   "execution_count": 3,
   "id": "a08ad0b2-f7b4-45da-89a4-5e3d8662f52a",
   "metadata": {
    "tags": []
   },
   "outputs": [
    {
     "name": "stdout",
     "output_type": "stream",
     "text": [
      "<class 'pandas.core.frame.DataFrame'>\n",
      "Int64Index: 59400 entries, 0 to 59399\n",
      "Data columns (total 41 columns):\n",
      " #   Column                 Non-Null Count  Dtype  \n",
      "---  ------                 --------------  -----  \n",
      " 0   id                     59400 non-null  int64  \n",
      " 1   amount_tsh             59400 non-null  float64\n",
      " 2   date_recorded          59400 non-null  object \n",
      " 3   funder                 55765 non-null  object \n",
      " 4   gps_height             59400 non-null  int64  \n",
      " 5   installer              55745 non-null  object \n",
      " 6   longitude              59400 non-null  float64\n",
      " 7   latitude               59400 non-null  float64\n",
      " 8   wpt_name               59400 non-null  object \n",
      " 9   num_private            59400 non-null  int64  \n",
      " 10  basin                  59400 non-null  object \n",
      " 11  subvillage             59029 non-null  object \n",
      " 12  region                 59400 non-null  object \n",
      " 13  region_code            59400 non-null  int64  \n",
      " 14  district_code          59400 non-null  int64  \n",
      " 15  lga                    59400 non-null  object \n",
      " 16  ward                   59400 non-null  object \n",
      " 17  population             59400 non-null  int64  \n",
      " 18  public_meeting         56066 non-null  object \n",
      " 19  recorded_by            59400 non-null  object \n",
      " 20  scheme_management      55523 non-null  object \n",
      " 21  scheme_name            31234 non-null  object \n",
      " 22  permit                 56344 non-null  object \n",
      " 23  construction_year      59400 non-null  int64  \n",
      " 24  extraction_type        59400 non-null  object \n",
      " 25  extraction_type_group  59400 non-null  object \n",
      " 26  extraction_type_class  59400 non-null  object \n",
      " 27  management             59400 non-null  object \n",
      " 28  management_group       59400 non-null  object \n",
      " 29  payment                59400 non-null  object \n",
      " 30  payment_type           59400 non-null  object \n",
      " 31  water_quality          59400 non-null  object \n",
      " 32  quality_group          59400 non-null  object \n",
      " 33  quantity               59400 non-null  object \n",
      " 34  quantity_group         59400 non-null  object \n",
      " 35  source                 59400 non-null  object \n",
      " 36  source_type            59400 non-null  object \n",
      " 37  source_class           59400 non-null  object \n",
      " 38  waterpoint_type        59400 non-null  object \n",
      " 39  waterpoint_type_group  59400 non-null  object \n",
      " 40  status_group           59400 non-null  object \n",
      "dtypes: float64(3), int64(7), object(31)\n",
      "memory usage: 12.0+ MB\n"
     ]
    }
   ],
   "source": [
    "pump_data.info()"
   ]
  },
  {
   "cell_type": "markdown",
   "id": "b6f0abb7-748d-405b-9c49-ebd984515ada",
   "metadata": {
    "tags": []
   },
   "source": [
    "## Handling Missing values"
   ]
  },
  {
   "cell_type": "code",
   "execution_count": 4,
   "id": "6b473299-74b2-4b48-acc5-e68ea972102a",
   "metadata": {},
   "outputs": [
    {
     "name": "stdout",
     "output_type": "stream",
     "text": [
      "Missing Values in funder: 3635\n",
      "Missing Values in installer: 3655\n",
      "Missing Values in subvillage: 371\n",
      "Missing Values in public_meeting: 3334\n",
      "Missing Values in scheme_management: 3877\n",
      "Missing Values in scheme_name: 28166\n",
      "Missing Values in permit: 3056\n"
     ]
    }
   ],
   "source": [
    "explicit_missing = pump_data.isna().any()[pump_data.isna().any()].index\n",
    "for col in explicit_missing:\n",
    "    c = pump_data[col].isna().sum()\n",
    "    print(f\"Missing Values in {col}: {c}\")"
   ]
  },
  {
   "cell_type": "code",
   "execution_count": 5,
   "id": "45225c3a-ecf6-4098-9443-7ff8c43e78f6",
   "metadata": {},
   "outputs": [],
   "source": [
    "def get_missing_columns(data, columns=[], missing_vals=[]):\n",
    "    \"\"\"\n",
    "    Get Columns that contains implicit missing data on them\n",
    "    \"\"\"\n",
    "    columns = list(data.select_dtypes('object').columns) + columns\n",
    "    known_missing_vals = ['', 'none', 'None', '?']\n",
    "    missing_vals = known_missing_vals + missing_vals\n",
    "    \n",
    "    columns_with_missing = []\n",
    "    \n",
    "    for val in missing_vals:\n",
    "        for col in columns:\n",
    "            if (data[col] == val).any():\n",
    "                columns_with_missing.append(col)\n",
    "                \n",
    "    return set(columns_with_missing)"
   ]
  },
  {
   "cell_type": "code",
   "execution_count": 6,
   "id": "e3535a25-bb6a-4758-9d88-0d96a6a62728",
   "metadata": {},
   "outputs": [
    {
     "name": "stdout",
     "output_type": "stream",
     "text": [
      "Columns With Implicit Missing Values: ['scheme_name', 'wpt_name', 'scheme_management', 'funder']\n"
     ]
    }
   ],
   "source": [
    "implicit_missing = get_missing_columns(pump_data)\n",
    "print(f\"Columns With Implicit Missing Values: {list(implicit_missing)}\")"
   ]
  },
  {
   "cell_type": "code",
   "execution_count": 7,
   "id": "2b85de09-cc5f-441b-84c5-e5589c91a0dd",
   "metadata": {},
   "outputs": [
    {
     "data": {
      "text/plain": [
       "set()"
      ]
     },
     "execution_count": 7,
     "metadata": {},
     "output_type": "execute_result"
    }
   ],
   "source": [
    "pump_data = pump_data.replace(['', 'none', 'None', '?'], np.nan)\n",
    "get_missing_columns(pump_data)"
   ]
  },
  {
   "cell_type": "code",
   "execution_count": 8,
   "id": "47b39c49-20b3-4465-bf6f-ccdf131b626e",
   "metadata": {},
   "outputs": [
    {
     "name": "stdout",
     "output_type": "stream",
     "text": [
      "Missing Values in funder: 3637\n",
      "Missing Values in installer: 3655\n",
      "Missing Values in wpt_name: 3565\n",
      "Missing Values in subvillage: 371\n",
      "Missing Values in public_meeting: 3334\n",
      "Missing Values in scheme_management: 3878\n",
      "Missing Values in scheme_name: 28835\n",
      "Missing Values in permit: 3056\n"
     ]
    }
   ],
   "source": [
    "explicit_missing = pump_data.isna().any()[pump_data.isna().any()].index\n",
    "for col in explicit_missing:\n",
    "    c = pump_data[col].isna().sum()\n",
    "    print(f\"Missing Values in {col}: {c}\")"
   ]
  },
  {
   "cell_type": "markdown",
   "id": "b633f1dc-6eee-43ed-a5ef-f5039335fb91",
   "metadata": {
    "jp-MarkdownHeadingCollapsed": true,
    "tags": []
   },
   "source": [
    "### Handling Zero's Values in ```construction_year``` column"
   ]
  },
  {
   "cell_type": "code",
   "execution_count": 9,
   "id": "99aec5dd-d00d-4839-ac67-0bd6331537ad",
   "metadata": {},
   "outputs": [
    {
     "name": "stdout",
     "output_type": "stream",
     "text": [
      "Number of zeros in construction_year: 20709\n"
     ]
    }
   ],
   "source": [
    "num_zeros = (pump_data['construction_year'] == 0).sum()\n",
    "print(f\"Number of zeros in construction_year: {num_zeros}\")"
   ]
  },
  {
   "cell_type": "code",
   "execution_count": 10,
   "id": "c34fe0e5-5514-4ad8-a498-b33ab79a5b3d",
   "metadata": {},
   "outputs": [
    {
     "data": {
      "text/plain": [
       "construction_year  status_group           \n",
       "False              functional                 21704\n",
       "                   non functional             14459\n",
       "                   functional needs repair     2528\n",
       "True               functional                 10555\n",
       "                   non functional              8365\n",
       "                   functional needs repair     1789\n",
       "Name: status_group, dtype: int64"
      ]
     },
     "execution_count": 10,
     "metadata": {},
     "output_type": "execute_result"
    }
   ],
   "source": [
    "pump_data.groupby(pump_data['construction_year']==0)['status_group'].value_counts()"
   ]
  },
  {
   "cell_type": "code",
   "execution_count": 11,
   "id": "d9815a66-9738-4329-a215-78791ae1ce19",
   "metadata": {},
   "outputs": [],
   "source": [
    "mean_construction_year = pump_data['construction_year'].mean()\n",
    "pump_data['construction_year'].replace(0, mean_construction_year, inplace=True)"
   ]
  },
  {
   "cell_type": "code",
   "execution_count": 12,
   "id": "05309d7a-ca85-46ba-961a-59b90155408e",
   "metadata": {},
   "outputs": [
    {
     "name": "stdout",
     "output_type": "stream",
     "text": [
      "Number of zeros in construction_year: 0\n"
     ]
    }
   ],
   "source": [
    "num_zeros = (pump_data['construction_year'] == 0).sum()\n",
    "print(f\"Number of zeros in construction_year: {num_zeros}\")"
   ]
  },
  {
   "cell_type": "markdown",
   "id": "8b4cfe87-bf96-43a0-ab8c-944d30581bc9",
   "metadata": {
    "tags": []
   },
   "source": [
    "### Handling Missing Values in ```scheme_name``` column"
   ]
  },
  {
   "cell_type": "code",
   "execution_count": 13,
   "id": "f9d98c6f-04a2-4191-b9e1-7929728a855a",
   "metadata": {},
   "outputs": [
    {
     "data": {
      "text/plain": [
       "functional                 14914\n",
       "non functional             11887\n",
       "functional needs repair     2034\n",
       "Name: status_group, dtype: int64"
      ]
     },
     "execution_count": 13,
     "metadata": {},
     "output_type": "execute_result"
    }
   ],
   "source": [
    "pump_data[pump_data.scheme_name.isna()]['status_group'].value_counts()"
   ]
  },
  {
   "cell_type": "code",
   "execution_count": 14,
   "id": "b9dad864-0435-40c4-be41-4d55f91ded7a",
   "metadata": {
    "tags": []
   },
   "outputs": [],
   "source": [
    "def replace_scheme_name(df, top=200):\n",
    "    great_than_top = df['scheme_name'].value_counts() >= top\n",
    "    top_schemes_counts = df['scheme_name'].value_counts()[great_than_top]\n",
    "    top_schemes_names = top_schemes_counts.index\n",
    "    probs = top_schemes_counts.apply(lambda x: x/top_schemes_counts.sum())\n",
    "    get_random_scheme = lambda: np.random.choice(top_schemes_names, p=probs)\n",
    "\n",
    "    num_nans = df['scheme_name'].isna().sum()\n",
    "    values = [get_random_scheme() for i in range(num_nans)]\n",
    "\n",
    "    df.loc[df['scheme_name'].isna(), 'scheme_name'] = values"
   ]
  },
  {
   "cell_type": "code",
   "execution_count": 15,
   "id": "9af6f4e8-c005-4f66-a1bf-85bcae4b626e",
   "metadata": {},
   "outputs": [],
   "source": [
    "replace_scheme_name(pump_data)"
   ]
  },
  {
   "cell_type": "code",
   "execution_count": 16,
   "id": "c45665f9-7eff-4e55-959c-dbcbc9d851e6",
   "metadata": {},
   "outputs": [
    {
     "name": "stdout",
     "output_type": "stream",
     "text": [
      "Missing Values in funder: 3637\n",
      "Missing Values in installer: 3655\n",
      "Missing Values in wpt_name: 3565\n",
      "Missing Values in subvillage: 371\n",
      "Missing Values in public_meeting: 3334\n",
      "Missing Values in scheme_management: 3878\n",
      "Missing Values in permit: 3056\n"
     ]
    }
   ],
   "source": [
    "explicit_missing = pump_data.isna().any()[pump_data.isna().any()].index\n",
    "for col in explicit_missing:\n",
    "    c = pump_data[col].isna().sum()\n",
    "    print(f\"Missing Values in {col}: {c}\")"
   ]
  },
  {
   "cell_type": "markdown",
   "id": "206d837a-f35b-4bf1-bf35-ba2846ea5672",
   "metadata": {
    "tags": []
   },
   "source": [
    "## Exploratory Data Analysis"
   ]
  },
  {
   "cell_type": "code",
   "execution_count": 17,
   "id": "ed09d952-9626-4817-b9a1-5f0229171ed4",
   "metadata": {},
   "outputs": [
    {
     "name": "stdout",
     "output_type": "stream",
     "text": [
      "Numerical Columns: 10\n",
      "Non Numerical Columns: 31\n"
     ]
    }
   ],
   "source": [
    "categorical_columns = pump_data.select_dtypes('object').columns\n",
    "numerical_columns = pump_data.select_dtypes('number').columns\n",
    "print(f\"Numerical Columns: {len(numerical_columns)}\")\n",
    "print(f\"Non Numerical Columns: {len(categorical_columns)}\")"
   ]
  },
  {
   "cell_type": "code",
   "execution_count": 18,
   "id": "b77de0e4-0c6b-44cb-9510-7e2cf703708c",
   "metadata": {},
   "outputs": [
    {
     "data": {
      "text/html": [
       "<div>\n",
       "<style scoped>\n",
       "    .dataframe tbody tr th:only-of-type {\n",
       "        vertical-align: middle;\n",
       "    }\n",
       "\n",
       "    .dataframe tbody tr th {\n",
       "        vertical-align: top;\n",
       "    }\n",
       "\n",
       "    .dataframe thead th {\n",
       "        text-align: right;\n",
       "    }\n",
       "</style>\n",
       "<table border=\"1\" class=\"dataframe\">\n",
       "  <thead>\n",
       "    <tr style=\"text-align: right;\">\n",
       "      <th></th>\n",
       "      <th>count</th>\n",
       "      <th>mean</th>\n",
       "      <th>std</th>\n",
       "      <th>min</th>\n",
       "      <th>25%</th>\n",
       "      <th>50%</th>\n",
       "      <th>75%</th>\n",
       "      <th>max</th>\n",
       "    </tr>\n",
       "  </thead>\n",
       "  <tbody>\n",
       "    <tr>\n",
       "      <th>id</th>\n",
       "      <td>59400.0</td>\n",
       "      <td>37115.131768</td>\n",
       "      <td>21453.128371</td>\n",
       "      <td>0.000000</td>\n",
       "      <td>18519.750000</td>\n",
       "      <td>37061.500000</td>\n",
       "      <td>55656.500000</td>\n",
       "      <td>7.424700e+04</td>\n",
       "    </tr>\n",
       "    <tr>\n",
       "      <th>amount_tsh</th>\n",
       "      <td>59400.0</td>\n",
       "      <td>317.650385</td>\n",
       "      <td>2997.574558</td>\n",
       "      <td>0.000000</td>\n",
       "      <td>0.000000</td>\n",
       "      <td>0.000000</td>\n",
       "      <td>20.000000</td>\n",
       "      <td>3.500000e+05</td>\n",
       "    </tr>\n",
       "    <tr>\n",
       "      <th>gps_height</th>\n",
       "      <td>59400.0</td>\n",
       "      <td>668.297239</td>\n",
       "      <td>693.116350</td>\n",
       "      <td>-90.000000</td>\n",
       "      <td>0.000000</td>\n",
       "      <td>369.000000</td>\n",
       "      <td>1319.250000</td>\n",
       "      <td>2.770000e+03</td>\n",
       "    </tr>\n",
       "    <tr>\n",
       "      <th>longitude</th>\n",
       "      <td>59400.0</td>\n",
       "      <td>34.077427</td>\n",
       "      <td>6.567432</td>\n",
       "      <td>0.000000</td>\n",
       "      <td>33.090347</td>\n",
       "      <td>34.908743</td>\n",
       "      <td>37.178387</td>\n",
       "      <td>4.034519e+01</td>\n",
       "    </tr>\n",
       "    <tr>\n",
       "      <th>latitude</th>\n",
       "      <td>59400.0</td>\n",
       "      <td>-5.706033</td>\n",
       "      <td>2.946019</td>\n",
       "      <td>-11.649440</td>\n",
       "      <td>-8.540621</td>\n",
       "      <td>-5.021597</td>\n",
       "      <td>-3.326156</td>\n",
       "      <td>-2.000000e-08</td>\n",
       "    </tr>\n",
       "    <tr>\n",
       "      <th>num_private</th>\n",
       "      <td>59400.0</td>\n",
       "      <td>0.474141</td>\n",
       "      <td>12.236230</td>\n",
       "      <td>0.000000</td>\n",
       "      <td>0.000000</td>\n",
       "      <td>0.000000</td>\n",
       "      <td>0.000000</td>\n",
       "      <td>1.776000e+03</td>\n",
       "    </tr>\n",
       "    <tr>\n",
       "      <th>region_code</th>\n",
       "      <td>59400.0</td>\n",
       "      <td>15.297003</td>\n",
       "      <td>17.587406</td>\n",
       "      <td>1.000000</td>\n",
       "      <td>5.000000</td>\n",
       "      <td>12.000000</td>\n",
       "      <td>17.000000</td>\n",
       "      <td>9.900000e+01</td>\n",
       "    </tr>\n",
       "    <tr>\n",
       "      <th>district_code</th>\n",
       "      <td>59400.0</td>\n",
       "      <td>5.629747</td>\n",
       "      <td>9.633649</td>\n",
       "      <td>0.000000</td>\n",
       "      <td>2.000000</td>\n",
       "      <td>3.000000</td>\n",
       "      <td>5.000000</td>\n",
       "      <td>8.000000e+01</td>\n",
       "    </tr>\n",
       "    <tr>\n",
       "      <th>population</th>\n",
       "      <td>59400.0</td>\n",
       "      <td>179.909983</td>\n",
       "      <td>471.482176</td>\n",
       "      <td>0.000000</td>\n",
       "      <td>0.000000</td>\n",
       "      <td>25.000000</td>\n",
       "      <td>215.000000</td>\n",
       "      <td>3.050000e+04</td>\n",
       "    </tr>\n",
       "    <tr>\n",
       "      <th>construction_year</th>\n",
       "      <td>59400.0</td>\n",
       "      <td>1754.107224</td>\n",
       "      <td>331.903637</td>\n",
       "      <td>1300.652475</td>\n",
       "      <td>1300.652475</td>\n",
       "      <td>1986.000000</td>\n",
       "      <td>2004.000000</td>\n",
       "      <td>2.013000e+03</td>\n",
       "    </tr>\n",
       "  </tbody>\n",
       "</table>\n",
       "</div>"
      ],
      "text/plain": [
       "                     count          mean           std          min  \\\n",
       "id                 59400.0  37115.131768  21453.128371     0.000000   \n",
       "amount_tsh         59400.0    317.650385   2997.574558     0.000000   \n",
       "gps_height         59400.0    668.297239    693.116350   -90.000000   \n",
       "longitude          59400.0     34.077427      6.567432     0.000000   \n",
       "latitude           59400.0     -5.706033      2.946019   -11.649440   \n",
       "num_private        59400.0      0.474141     12.236230     0.000000   \n",
       "region_code        59400.0     15.297003     17.587406     1.000000   \n",
       "district_code      59400.0      5.629747      9.633649     0.000000   \n",
       "population         59400.0    179.909983    471.482176     0.000000   \n",
       "construction_year  59400.0   1754.107224    331.903637  1300.652475   \n",
       "\n",
       "                            25%           50%           75%           max  \n",
       "id                 18519.750000  37061.500000  55656.500000  7.424700e+04  \n",
       "amount_tsh             0.000000      0.000000     20.000000  3.500000e+05  \n",
       "gps_height             0.000000    369.000000   1319.250000  2.770000e+03  \n",
       "longitude             33.090347     34.908743     37.178387  4.034519e+01  \n",
       "latitude              -8.540621     -5.021597     -3.326156 -2.000000e-08  \n",
       "num_private            0.000000      0.000000      0.000000  1.776000e+03  \n",
       "region_code            5.000000     12.000000     17.000000  9.900000e+01  \n",
       "district_code          2.000000      3.000000      5.000000  8.000000e+01  \n",
       "population             0.000000     25.000000    215.000000  3.050000e+04  \n",
       "construction_year   1300.652475   1986.000000   2004.000000  2.013000e+03  "
      ]
     },
     "execution_count": 18,
     "metadata": {},
     "output_type": "execute_result"
    }
   ],
   "source": [
    "pump_data[numerical_columns].describe().T"
   ]
  },
  {
   "cell_type": "code",
   "execution_count": 19,
   "id": "4ba2128b-3e4f-4564-ad70-25a5b952a30e",
   "metadata": {},
   "outputs": [
    {
     "data": {
      "text/plain": [
       "num_private  status_group           \n",
       "0            functional                 31798\n",
       "             non functional             22576\n",
       "             functional needs repair     4269\n",
       "1            functional                    40\n",
       "             non functional                27\n",
       "                                        ...  \n",
       "672          functional                     1\n",
       "698          functional                     1\n",
       "755          functional                     1\n",
       "1402         functional                     1\n",
       "1776         non functional                 1\n",
       "Name: status_group, Length: 113, dtype: int64"
      ]
     },
     "execution_count": 19,
     "metadata": {},
     "output_type": "execute_result"
    }
   ],
   "source": [
    "pump_data.groupby('num_private')['status_group'].value_counts()"
   ]
  },
  {
   "cell_type": "code",
   "execution_count": 20,
   "id": "5ba04022-09cb-4665-9a75-45825dc7cd5f",
   "metadata": {
    "tags": []
   },
   "outputs": [
    {
     "data": {
      "text/html": [
       "<div>\n",
       "<style scoped>\n",
       "    .dataframe tbody tr th:only-of-type {\n",
       "        vertical-align: middle;\n",
       "    }\n",
       "\n",
       "    .dataframe tbody tr th {\n",
       "        vertical-align: top;\n",
       "    }\n",
       "\n",
       "    .dataframe thead th {\n",
       "        text-align: right;\n",
       "    }\n",
       "</style>\n",
       "<table border=\"1\" class=\"dataframe\">\n",
       "  <thead>\n",
       "    <tr style=\"text-align: right;\">\n",
       "      <th></th>\n",
       "      <th>count</th>\n",
       "      <th>unique</th>\n",
       "      <th>top</th>\n",
       "      <th>freq</th>\n",
       "    </tr>\n",
       "  </thead>\n",
       "  <tbody>\n",
       "    <tr>\n",
       "      <th>date_recorded</th>\n",
       "      <td>59400</td>\n",
       "      <td>356</td>\n",
       "      <td>2011-03-15</td>\n",
       "      <td>572</td>\n",
       "    </tr>\n",
       "    <tr>\n",
       "      <th>funder</th>\n",
       "      <td>55763</td>\n",
       "      <td>1896</td>\n",
       "      <td>Government Of Tanzania</td>\n",
       "      <td>9084</td>\n",
       "    </tr>\n",
       "    <tr>\n",
       "      <th>installer</th>\n",
       "      <td>55745</td>\n",
       "      <td>2145</td>\n",
       "      <td>DWE</td>\n",
       "      <td>17402</td>\n",
       "    </tr>\n",
       "    <tr>\n",
       "      <th>wpt_name</th>\n",
       "      <td>55835</td>\n",
       "      <td>37398</td>\n",
       "      <td>Shuleni</td>\n",
       "      <td>1748</td>\n",
       "    </tr>\n",
       "    <tr>\n",
       "      <th>basin</th>\n",
       "      <td>59400</td>\n",
       "      <td>9</td>\n",
       "      <td>Lake Victoria</td>\n",
       "      <td>10248</td>\n",
       "    </tr>\n",
       "    <tr>\n",
       "      <th>subvillage</th>\n",
       "      <td>59029</td>\n",
       "      <td>19287</td>\n",
       "      <td>Madukani</td>\n",
       "      <td>508</td>\n",
       "    </tr>\n",
       "    <tr>\n",
       "      <th>region</th>\n",
       "      <td>59400</td>\n",
       "      <td>21</td>\n",
       "      <td>Iringa</td>\n",
       "      <td>5294</td>\n",
       "    </tr>\n",
       "    <tr>\n",
       "      <th>lga</th>\n",
       "      <td>59400</td>\n",
       "      <td>125</td>\n",
       "      <td>Njombe</td>\n",
       "      <td>2503</td>\n",
       "    </tr>\n",
       "    <tr>\n",
       "      <th>ward</th>\n",
       "      <td>59400</td>\n",
       "      <td>2092</td>\n",
       "      <td>Igosi</td>\n",
       "      <td>307</td>\n",
       "    </tr>\n",
       "    <tr>\n",
       "      <th>public_meeting</th>\n",
       "      <td>56066</td>\n",
       "      <td>2</td>\n",
       "      <td>True</td>\n",
       "      <td>51011</td>\n",
       "    </tr>\n",
       "    <tr>\n",
       "      <th>recorded_by</th>\n",
       "      <td>59400</td>\n",
       "      <td>1</td>\n",
       "      <td>GeoData Consultants Ltd</td>\n",
       "      <td>59400</td>\n",
       "    </tr>\n",
       "    <tr>\n",
       "      <th>scheme_management</th>\n",
       "      <td>55522</td>\n",
       "      <td>11</td>\n",
       "      <td>VWC</td>\n",
       "      <td>36793</td>\n",
       "    </tr>\n",
       "    <tr>\n",
       "      <th>scheme_name</th>\n",
       "      <td>59400</td>\n",
       "      <td>2694</td>\n",
       "      <td>K</td>\n",
       "      <td>5113</td>\n",
       "    </tr>\n",
       "    <tr>\n",
       "      <th>permit</th>\n",
       "      <td>56344</td>\n",
       "      <td>2</td>\n",
       "      <td>True</td>\n",
       "      <td>38852</td>\n",
       "    </tr>\n",
       "    <tr>\n",
       "      <th>extraction_type</th>\n",
       "      <td>59400</td>\n",
       "      <td>18</td>\n",
       "      <td>gravity</td>\n",
       "      <td>26780</td>\n",
       "    </tr>\n",
       "    <tr>\n",
       "      <th>extraction_type_group</th>\n",
       "      <td>59400</td>\n",
       "      <td>13</td>\n",
       "      <td>gravity</td>\n",
       "      <td>26780</td>\n",
       "    </tr>\n",
       "    <tr>\n",
       "      <th>extraction_type_class</th>\n",
       "      <td>59400</td>\n",
       "      <td>7</td>\n",
       "      <td>gravity</td>\n",
       "      <td>26780</td>\n",
       "    </tr>\n",
       "    <tr>\n",
       "      <th>management</th>\n",
       "      <td>59400</td>\n",
       "      <td>12</td>\n",
       "      <td>vwc</td>\n",
       "      <td>40507</td>\n",
       "    </tr>\n",
       "    <tr>\n",
       "      <th>management_group</th>\n",
       "      <td>59400</td>\n",
       "      <td>5</td>\n",
       "      <td>user-group</td>\n",
       "      <td>52490</td>\n",
       "    </tr>\n",
       "    <tr>\n",
       "      <th>payment</th>\n",
       "      <td>59400</td>\n",
       "      <td>7</td>\n",
       "      <td>never pay</td>\n",
       "      <td>25348</td>\n",
       "    </tr>\n",
       "    <tr>\n",
       "      <th>payment_type</th>\n",
       "      <td>59400</td>\n",
       "      <td>7</td>\n",
       "      <td>never pay</td>\n",
       "      <td>25348</td>\n",
       "    </tr>\n",
       "    <tr>\n",
       "      <th>water_quality</th>\n",
       "      <td>59400</td>\n",
       "      <td>8</td>\n",
       "      <td>soft</td>\n",
       "      <td>50818</td>\n",
       "    </tr>\n",
       "    <tr>\n",
       "      <th>quality_group</th>\n",
       "      <td>59400</td>\n",
       "      <td>6</td>\n",
       "      <td>good</td>\n",
       "      <td>50818</td>\n",
       "    </tr>\n",
       "    <tr>\n",
       "      <th>quantity</th>\n",
       "      <td>59400</td>\n",
       "      <td>5</td>\n",
       "      <td>enough</td>\n",
       "      <td>33186</td>\n",
       "    </tr>\n",
       "    <tr>\n",
       "      <th>quantity_group</th>\n",
       "      <td>59400</td>\n",
       "      <td>5</td>\n",
       "      <td>enough</td>\n",
       "      <td>33186</td>\n",
       "    </tr>\n",
       "    <tr>\n",
       "      <th>source</th>\n",
       "      <td>59400</td>\n",
       "      <td>10</td>\n",
       "      <td>spring</td>\n",
       "      <td>17021</td>\n",
       "    </tr>\n",
       "    <tr>\n",
       "      <th>source_type</th>\n",
       "      <td>59400</td>\n",
       "      <td>7</td>\n",
       "      <td>spring</td>\n",
       "      <td>17021</td>\n",
       "    </tr>\n",
       "    <tr>\n",
       "      <th>source_class</th>\n",
       "      <td>59400</td>\n",
       "      <td>3</td>\n",
       "      <td>groundwater</td>\n",
       "      <td>45794</td>\n",
       "    </tr>\n",
       "    <tr>\n",
       "      <th>waterpoint_type</th>\n",
       "      <td>59400</td>\n",
       "      <td>7</td>\n",
       "      <td>communal standpipe</td>\n",
       "      <td>28522</td>\n",
       "    </tr>\n",
       "    <tr>\n",
       "      <th>waterpoint_type_group</th>\n",
       "      <td>59400</td>\n",
       "      <td>6</td>\n",
       "      <td>communal standpipe</td>\n",
       "      <td>34625</td>\n",
       "    </tr>\n",
       "    <tr>\n",
       "      <th>status_group</th>\n",
       "      <td>59400</td>\n",
       "      <td>3</td>\n",
       "      <td>functional</td>\n",
       "      <td>32259</td>\n",
       "    </tr>\n",
       "  </tbody>\n",
       "</table>\n",
       "</div>"
      ],
      "text/plain": [
       "                       count unique                      top   freq\n",
       "date_recorded          59400    356               2011-03-15    572\n",
       "funder                 55763   1896   Government Of Tanzania   9084\n",
       "installer              55745   2145                      DWE  17402\n",
       "wpt_name               55835  37398                  Shuleni   1748\n",
       "basin                  59400      9            Lake Victoria  10248\n",
       "subvillage             59029  19287                 Madukani    508\n",
       "region                 59400     21                   Iringa   5294\n",
       "lga                    59400    125                   Njombe   2503\n",
       "ward                   59400   2092                    Igosi    307\n",
       "public_meeting         56066      2                     True  51011\n",
       "recorded_by            59400      1  GeoData Consultants Ltd  59400\n",
       "scheme_management      55522     11                      VWC  36793\n",
       "scheme_name            59400   2694                        K   5113\n",
       "permit                 56344      2                     True  38852\n",
       "extraction_type        59400     18                  gravity  26780\n",
       "extraction_type_group  59400     13                  gravity  26780\n",
       "extraction_type_class  59400      7                  gravity  26780\n",
       "management             59400     12                      vwc  40507\n",
       "management_group       59400      5               user-group  52490\n",
       "payment                59400      7                never pay  25348\n",
       "payment_type           59400      7                never pay  25348\n",
       "water_quality          59400      8                     soft  50818\n",
       "quality_group          59400      6                     good  50818\n",
       "quantity               59400      5                   enough  33186\n",
       "quantity_group         59400      5                   enough  33186\n",
       "source                 59400     10                   spring  17021\n",
       "source_type            59400      7                   spring  17021\n",
       "source_class           59400      3              groundwater  45794\n",
       "waterpoint_type        59400      7       communal standpipe  28522\n",
       "waterpoint_type_group  59400      6       communal standpipe  34625\n",
       "status_group           59400      3               functional  32259"
      ]
     },
     "execution_count": 20,
     "metadata": {},
     "output_type": "execute_result"
    }
   ],
   "source": [
    "pump_data[categorical_columns].describe().T"
   ]
  },
  {
   "cell_type": "code",
   "execution_count": 21,
   "id": "3eb568a9-0098-4d4a-bb21-fc1e7e9c2d9a",
   "metadata": {},
   "outputs": [
    {
     "data": {
      "text/plain": [
       "<AxesSubplot:xlabel='num_private', ylabel='status_group'>"
      ]
     },
     "execution_count": 21,
     "metadata": {},
     "output_type": "execute_result"
    },
    {
     "data": {
      "image/png": "[encoded data removed]",
      "text/plain": [
       "<Figure size 432x288 with 1 Axes>"
      ]
     },
     "metadata": {
      "needs_background": "light"
     },
     "output_type": "display_data"
    }
   ],
   "source": [
    "seaborn.barplot(data=pump_data, x='num_private', y='status_group')"
   ]
  },
  {
   "cell_type": "markdown",
   "id": "d3a6fd3f-5b1f-4834-83e0-f1e649422b11",
   "metadata": {
    "tags": []
   },
   "source": [
    "\n",
    "## Building The Model"
   ]
  },
  {
   "cell_type": "markdown",
   "id": "d80dc0cc-2eed-4bc7-9141-1773d01dfdf5",
   "metadata": {
    "tags": []
   },
   "source": [
    "\n",
    "### Logistic Regression (Numerical Features)"
   ]
  },
  {
   "cell_type": "code",
   "execution_count": 22,
   "id": "78967b27-6be4-4daa-ba6f-c49600b0ed81",
   "metadata": {},
   "outputs": [],
   "source": [
    "from sklearn.linear_model import LogisticRegression\n",
    "from sklearn.preprocessing import LabelEncoder, MinMaxScaler, OneHotEncoder\n",
    "from sklearn.model_selection import train_test_split\n",
    "from sklearn.pipeline import Pipeline\n",
    "from sklearn.impute import SimpleImputer"
   ]
  },
  {
   "cell_type": "code",
   "execution_count": 23,
   "id": "6e3f9e09-3eb4-4cf3-aaf6-20d9326bd26a",
   "metadata": {},
   "outputs": [],
   "source": [
    "X_numerics = pump_data[['amount_tsh', 'gps_height', 'longitude', 'latitude',\n",
    "               'num_private', 'population', 'construction_year']]\n",
    "y = LabelEncoder().fit_transform(pump_data['status_group'])"
   ]
  },
  {
   "cell_type": "code",
   "execution_count": 24,
   "id": "d748c943-59b7-43cc-bbac-98e0946aa399",
   "metadata": {},
   "outputs": [],
   "source": [
    "X_train, X_test, y_train, y_test = train_test_split(X_numerics, y, test_size=0.30, random_state=42)"
   ]
  },
  {
   "cell_type": "code",
   "execution_count": 25,
   "id": "a55ffd42-5ee3-47c0-8c52-05a5aef3421c",
   "metadata": {},
   "outputs": [
    {
     "name": "stdout",
     "output_type": "stream",
     "text": [
      "Training Score: 0.5375661375661376\n",
      "Testing Score: 0.5364197530864198\n"
     ]
    }
   ],
   "source": [
    "logreg = LogisticRegression(max_iter=1000)\n",
    "logreg.fit(X_train, y_train)\n",
    "train_score = logreg.score(X_train, y_train)\n",
    "test_score = logreg.score(X_test, y_test)\n",
    "\n",
    "print(f\"Training Score: {train_score}\")\n",
    "print(f\"Testing Score: {test_score}\")"
   ]
  },
  {
   "cell_type": "code",
   "execution_count": 26,
   "id": "0ca2be92-ed12-40f4-a7c7-6ccccbcd7192",
   "metadata": {},
   "outputs": [
    {
     "name": "stdout",
     "output_type": "stream",
     "text": [
      "Training Score: 0.5367243867243867\n",
      "Testing Score: 0.5436026936026936\n"
     ]
    }
   ],
   "source": [
    "pipe = Pipeline([\n",
    "    ('imputer', SimpleImputer()),\n",
    "    ('scaler', MinMaxScaler()),\n",
    "    ('logreg', LogisticRegression(max_iter=1000)),\n",
    "])\n",
    "\n",
    "pipe.fit(X_train, y_train)\n",
    "train_score = pipe.score(X_train, y_train)\n",
    "test_score = pipe.score(X_test, y_test)\n",
    "print(f\"Training Score: {train_score}\")\n",
    "print(f\"Testing Score: {test_score}\")"
   ]
  },
  {
   "cell_type": "markdown",
   "id": "9a3fab54-fb16-43e0-98c7-eea4d7b7b69e",
   "metadata": {
    "tags": []
   },
   "source": [
    "### Logistic Regression"
   ]
  },
  {
   "cell_type": "code",
   "execution_count": 27,
   "id": "3bc450ff-f4fb-4e7d-ace7-a1cf1f287e8f",
   "metadata": {},
   "outputs": [],
   "source": [
    "from sklearn.pipeline import FeatureUnion\n",
    "from sklearn.preprocessing import FunctionTransformer, OneHotEncoder, StandardScaler\n",
    "from sklearn.svm import SVC, LinearSVC\n",
    "from sklearn.ensemble import RandomForestClassifier, GradientBoostingClassifier\n",
    "from sklearn.decomposition import PCA, TruncatedSVD"
   ]
  },
  {
   "cell_type": "code",
   "execution_count": 29,
   "id": "7b93ece6-c721-458f-9821-5749b9fa1bf1",
   "metadata": {},
   "outputs": [],
   "source": [
    "y = LabelEncoder().fit_transform(pump_data['status_group'])\n",
    "X_train, X_test, y_train, y_test = train_test_split(X, y, test_size=0.30, random_state=42)"
   ]
  },
  {
   "cell_type": "code",
   "execution_count": 30,
   "id": "b212eb40-2a03-4174-a507-1e0109307319",
   "metadata": {
    "tags": []
   },
   "outputs": [
    {
     "name": "stdout",
     "output_type": "stream",
     "text": [
      "Training Score: 0.7234728234728235\n",
      "Testing Score: 0.7215488215488215\n"
     ]
    }
   ],
   "source": [
    "numericals_features = ['amount_tsh', 'gps_height', 'longitude', 'latitude',\n",
    "                       'num_private', 'population', 'construction_year']\n",
    "\n",
    "categorical_features = ['basin', 'public_meeting', 'scheme_management', 'permit',\n",
    "                        'extraction_type_class', 'payment_type', 'water_quality',\n",
    "                        'quantity', 'source', 'waterpoint_type']\n",
    "\n",
    "get_numerical = FunctionTransformer(lambda x: x[numericals_features])\n",
    "get_categorical = FunctionTransformer(lambda x: x[categorical_features])\n",
    "\n",
    "numerical_pipeline = Pipeline([\n",
    "                        ('selector', get_numerical),\n",
    "                        ('imputer', SimpleImputer()),\n",
    "                        ('scaler', StandardScaler())])\n",
    "categorical_pipeline = Pipeline([\n",
    "                        ('selector', get_categorical),\n",
    "                        ('imputer', SimpleImputer(strategy='most_frequent')),\n",
    "                        ('encoder', OneHotEncoder()),\n",
    "                        ])\n",
    "pipeline = Pipeline([\n",
    "                ('union', FeatureUnion([\n",
    "                    ('numerical', numerical_pipeline),\n",
    "                    ('categorical', categorical_pipeline),\n",
    "                ])),\n",
    "                ('logreg', LogisticRegression(max_iter=1000))])\n",
    "\n",
    "pipeline.fit(X_train, y_train);\n",
    "train_score = pipeline.score(X_train, y_train)\n",
    "test_score = pipeline.score(X_test, y_test)\n",
    "\n",
    "print(f\"Training Score: {train_score}\")\n",
    "print(f\"Testing Score: {test_score}\")"
   ]
  },
  {
   "cell_type": "markdown",
   "id": "219716e7-2089-4191-878e-fc31e73a04bd",
   "metadata": {
    "tags": []
   },
   "source": [
    "## Random Forest"
   ]
  },
  {
   "cell_type": "code",
   "execution_count": 43,
   "id": "2e341973-42e4-4827-a3f1-2c7b65cc15c7",
   "metadata": {},
   "outputs": [
    {
     "name": "stdout",
     "output_type": "stream",
     "text": [
      "Training Score: 0.9008417508417509\n",
      "Testing Score: 0.8003928170594837\n"
     ]
    }
   ],
   "source": [
    "rf_pipeline = Pipeline([\n",
    "                ('union', FeatureUnion([\n",
    "                    ('numerical', numerical_pipeline),\n",
    "                    ('categorical', categorical_pipeline)\n",
    "                ])),\n",
    "                ('clf', RandomForestClassifier(\n",
    "                            max_depth=50, max_features=10, min_samples_split=10))\n",
    "                ])\n",
    "\n",
    "rf_pipeline.fit(X_train, y_train);\n",
    "train_score = rf_pipeline.score(X_train, y_train)\n",
    "test_score = rf_pipeline.score(X_test, y_test)\n",
    "\n",
    "print(f\"Training Score: {train_score}\")\n",
    "print(f\"Testing Score: {test_score}\")"
   ]
  }
 ],
 "metadata": {
  "kernelspec": {
   "display_name": "Python 3 (ipykernel)",
   "language": "python",
   "name": "python3"
  },
  "language_info": {
   "codemirror_mode": {
    "name": "ipython",
    "version": 3
   },
   "file_extension": ".py",
   "mimetype": "text/x-python",
   "name": "python",
   "nbconvert_exporter": "python",
   "pygments_lexer": "ipython3",
   "version": "3.9.7"
  },
  "toc-autonumbering": false,
  "toc-showcode": false,
  "toc-showmarkdowntxt": false,
  "toc-showtags": false
 },
 "nbformat": 4,
 "nbformat_minor": 5
}
